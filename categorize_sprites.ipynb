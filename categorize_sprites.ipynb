{
 "cells": [
  {
   "cell_type": "markdown",
   "metadata": {},
   "source": [
    "Given a folder of images for a character, categorize sprites:\n",
    "- Each character has a group of sprites\n",
    "- Each group will have separate outfits\n",
    "- Each outfit will have separate expressions"
   ]
  },
  {
   "cell_type": "code",
   "execution_count": null,
   "metadata": {},
   "outputs": [],
   "source": [
    "from pathlib import Path"
   ]
  },
  {
   "cell_type": "code",
   "execution_count": null,
   "metadata": {},
   "outputs": [],
   "source": [
    "sprites_path = \"/Users/maiyn/Downloads/Higurashi Sprites\"\n",
    "out = \"/Users/maiyn/Image Editor/sprites\""
   ]
  },
  {
   "cell_type": "code",
   "execution_count": null,
   "metadata": {},
   "outputs": [],
   "source": [
    "def categorize_outfits(character_path: Path):\n",
    "    for sprite_path in character_path.iterdir():\n",
    "        filename = sprite_path.name.split('_')\n",
    "        character = filename[0].title()\n",
    "        outfit = filename[1].upper()\n",
    "        expression = f'{filename[2].upper()} {filename[3].upper()}'\n",
    "         "
   ]
  },
  {
   "cell_type": "code",
   "execution_count": null,
   "metadata": {},
   "outputs": [],
   "source": [
    "def categorize_sprite(sprites_path):\n",
    "    path = Path(sprites_path)\n",
    "    characters_paths = [x for x in path.iterdir() if x.is_dir()]\n",
    "\n",
    "    for character_path in characters_paths:\n",
    "        character_name = character_path.name\n",
    "\n",
    "        # see if there are subdirectories in character's folder\n",
    "        subfolders = [x for x in character_path.iterdir() if x.is_dir()]\n",
    "        \n",
    "        # if there are not subfolders, divide the files into subfolders (outfits)\n",
    "        if not subfolders:\n",
    "            \n",
    "        \n",
    "\n",
    "\n"
   ]
  }
 ],
 "metadata": {
  "kernelspec": {
   "display_name": "redcap-ambra",
   "language": "python",
   "name": "python3"
  },
  "language_info": {
   "name": "python",
   "version": "3.12.5"
  }
 },
 "nbformat": 4,
 "nbformat_minor": 2
}
